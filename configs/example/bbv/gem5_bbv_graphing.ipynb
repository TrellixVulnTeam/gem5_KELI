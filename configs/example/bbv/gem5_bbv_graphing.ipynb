{
 "cells": [
  {
   "cell_type": "code",
   "execution_count": null,
   "metadata": {},
   "outputs": [],
   "source": [
    "import seaborn as sns\n",
    "import pandas as pd\n",
    "import numpy as np\n",
    "import matplotlib.pyplot as plt\n",
    "import re\n",
    "import csv\n",
    "from math import sqrt\n",
    "\n",
    "\n",
    "bbv_file_path1 = \"PATH1\" #BBV compare file 1\n",
    "bbv_file_path2 = \"PATH2\" #BBV compare file 2\n",
    "bbv_file_path3 = \"PATH3\" #BBV compare file 3\n",
    "bbv_file_path4 = \"PATH4\" #BBV compare file 4\n",
    "bbv_file_path5 = \"PATH5\" #BBV compare file 5\n",
    "bbv_file_path6 = \"PATH6\" #BBV compare file 6\n"
   ]
  },
  {
   "cell_type": "code",
   "execution_count": null,
   "metadata": {},
   "outputs": [],
   "source": [
    "#create function to calculate Manhattan distance \n",
    "def manhattan_distance(I, J):\n",
    "    sum = 0\n",
    "    for i in range(len(I)):\n",
    "        sum += abs(I[i]-J[i])\n",
    "    return int(sum)"
   ]
  },
  {
   "cell_type": "code",
   "execution_count": null,
   "metadata": {},
   "outputs": [],
   "source": [
    "def get_interval_list(bbv_file_path):\n",
    "    regex = re.compile(r\":([0-9]+):([0-9]+)\")\n",
    "    input_pairs = []\n",
    "    all_intervals = []\n",
    "    bbv_dict = {}\n",
    "    count = 0\n",
    "    with open(bbv_file_path) as file:\n",
    "        line = file.readline()\n",
    "        while line and line[0] == 'T':\n",
    "            match = regex.findall(line)\n",
    "            #match.sort(key = lambda int: int[0])\n",
    "            input_pairs.append(match)\n",
    "            for pair in match:\n",
    "                if not(str(pair[0]) in bbv_dict):\n",
    "                    bbv_dict[str(pair[0])] = count\n",
    "                    count += 1\n",
    "            line = file.readline()\n",
    "    # input_pairs.sort(key=lambda x: x[0])     #WHY DOES THIS CAUSE CHANGES!!!!!!?????!!!!!\n",
    "    for interval in input_pairs:\n",
    "        new_list = new_list = [0.0 for i in range(len(bbv_dict))]\n",
    "        for pair in interval:\n",
    "            new_list[bbv_dict[(pair[0])]] = int(pair[1])\n",
    "        all_intervals.append(new_list)\n",
    "    return all_intervals, input_pairs\n",
    "\n",
    "interval1, pairs1 = get_interval_list(bbv_file_path1)\n",
    "interval2, pairs2 = get_interval_list(bbv_file_path2)\n",
    "interval3, pairs3 = get_interval_list(bbv_file_path3)\n",
    "interval4, pairs4 = get_interval_list(bbv_file_path4)\n",
    "interval5, pairs5 = get_interval_list(bbv_file_path5)\n",
    "interval6, pairs6 = get_interval_list(bbv_file_path6)\n",
    "\n",
    "df1 = pd.DataFrame(interval1) #X86 Intervals\n",
    "df2 = pd.DataFrame(interval2) #RISC-V Intervals\n",
    "df3 = pd.DataFrame(interval3) #ARM Intervals\n",
    "df4 = pd.DataFrame(interval4) #Cross Compiled RISC-V Intervals\n",
    "df5 = pd.DataFrame(interval5) #Valgrind X86 Intervals\n",
    "df6 = pd.DataFrame(interval6) #Valgrind ARM Intervals\n"
   ]
  },
  {
   "cell_type": "code",
   "execution_count": null,
   "metadata": {},
   "outputs": [],
   "source": [
    "# Calculate correlation between each pair of variable\n",
    "rows1, cols1 = (len(interval1), len(interval1))\n",
    "rows2, cols2 = (len(interval2), len(interval2))\n",
    "rows3, cols3 = (len(interval3), len(interval3))\n",
    "rows4, cols4 = (len(interval4), len(interval4))\n",
    "rows5, cols5 = (len(interval5), len(interval5))\n",
    "rows6, cols6 = (len(interval6), len(interval6))\n",
    "# valgrind_matrix = [[0]*cols]*rows\n",
    "# gem5_matrix = [[0]*cols]*rows\n",
    "x86_matrix = list()\n",
    "riscv_matrix= list()\n",
    "arm_matrix= list()\n",
    "ccriscv_matrix= list()\n",
    "valgrind_X86_matrix= list()\n",
    "valgrind_ARM_matrix= list()\n",
    "\n",
    "for i in range(rows1):\n",
    "     new_x86 = list()\n",
    "     for j in range(cols1):\n",
    "          new_x86.append(manhattan_distance(interval1[j], interval1[i]))\n",
    "     x86_matrix.append(new_x86)\n",
    "\n",
    "for i in range(rows2):\n",
    "     new_riscv = list()\n",
    "     for j in range(cols2):\n",
    "          new_riscv.append(manhattan_distance(interval2[j], interval2[i]))\n",
    "     riscv_matrix.append(new_riscv)\n",
    "\n",
    "for i in range(rows3):\n",
    "     new_arm = list()\n",
    "     for j in range(cols3):\n",
    "          new_arm.append(manhattan_distance(interval3[j], interval3[i]))\n",
    "     arm_matrix.append(new_arm)\n",
    "\n",
    "for i in range(rows4):\n",
    "     new_ccriscv = list()\n",
    "     for j in range(cols4):\n",
    "          new_ccriscv.append(manhattan_distance(interval4[j], interval4[i]))\n",
    "     ccriscv_matrix.append(new_ccriscv)\n",
    "\n",
    "for i in range(rows5):\n",
    "     new_val = list()\n",
    "     for j in range(cols5):\n",
    "          new_val.append(manhattan_distance(interval5[j], interval5[i]))\n",
    "     valgrind_X86_matrix.append(new_val)\n",
    "\n",
    "for i in range(rows6):\n",
    "     new_ARM = list()\n",
    "     for j in range(cols6):\n",
    "          new_ARM.append(manhattan_distance(interval6[j], interval6[i]))\n",
    "     valgrind_ARM_matrix.append(new_ARM)\n",
    "#------------------------------------------------\n",
    "\n",
    "# corr_matrix1=df_gem5.corr()\n",
    "# corr_matrix2=df_valgrind.corr()"
   ]
  },
  {
   "cell_type": "code",
   "execution_count": null,
   "metadata": {},
   "outputs": [],
   "source": [
    "# Plot only a half matrix\n",
    "# Generate a mask for the upper triangle\n",
    "\n",
    "# mask1 = np.zeros_like(valgrind_matrix)\n",
    "# mask1[np.triu_indices_from(mask1)] = True\n",
    "# mask2 = np.zeros_like(gem5_matrix)\n",
    "# mask2[np.triu_indices_from(mask2)] = True"
   ]
  },
  {
   "cell_type": "code",
   "execution_count": null,
   "metadata": {},
   "outputs": [],
   "source": [
    "# Plot heatmap for valgrind\n",
    "fig, axes = plt.subplots(nrows=1, ncols=3, figsize=(40, 10))\n",
    "sns.heatmap(x86_matrix, ax=axes[0], cmap=\"PiYG\")\n",
    "axes[0].invert_yaxis()\n",
    "axes[0].set(title=\"TITLE\", ylabel=\"BBV#\", xlabel=\"BBV#\")\n",
    "sns.heatmap(riscv_matrix, ax=axes[1], cmap=\"PiYG\")\n",
    "axes[1].invert_yaxis()\n",
    "axes[1].set(title=\"TITLE\", ylabel=\"BBV#\", xlabel=\"BBV#\")\n",
    "sns.heatmap(arm_matrix, ax=axes[2], cmap=\"PiYG\")\n",
    "axes[2].invert_yaxis()\n",
    "axes[2].set(title=\"TITLE\", ylabel=\"BBV#\", xlabel=\"BBV#\")"
   ]
  },
  {
   "cell_type": "code",
   "execution_count": null,
   "metadata": {},
   "outputs": [],
   "source": [
    "# Plot heatmap for Valgrind vs gem5 BBV generators for X86 ISA\n",
    "fig, axes = plt.subplots(nrows=1, ncols=2, figsize=(40, 10))\n",
    "sns.heatmap(x86_matrix, ax=axes[0], cmap=\"PiYG\")\n",
    "axes[0].invert_yaxis()\n",
    "axes[0].set(title=\"TITLE\", ylabel=\"BBV#\", xlabel=\"BBV#\")\n",
    "sns.heatmap(valgrind_X86_matrix, ax=axes[1], cmap=\"PiYG\")\n",
    "axes[1].invert_yaxis()\n",
    "axes[1].set(title=\"TITLE\", ylabel=\"BBV#\", xlabel=\"BBV#\")"
   ]
  },
  {
   "cell_type": "code",
   "execution_count": null,
   "metadata": {},
   "outputs": [],
   "source": [
    "# Plot heatmap for Valgrind vs gem5 BBV generators for ARM ISA\n",
    "fig, axes = plt.subplots(nrows=1, ncols=2, figsize=(40, 10))\n",
    "sns.heatmap(arm_matrix, ax=axes[0], cmap=\"PiYG\")\n",
    "axes[0].invert_yaxis()\n",
    "axes[0].set(title=\"TITLE\", ylabel=\"BBV#\", xlabel=\"BBV#\")\n",
    "sns.heatmap(valgrind_ARM_matrix, ax=axes[1], cmap=\"PiYG\")\n",
    "axes[1].invert_yaxis()\n",
    "axes[1].set(title=\"TITLE\", ylabel=\"BBV#\", xlabel=\"BBV#\")"
   ]
  }
 ],
 "metadata": {
  "kernelspec": {
   "display_name": "Python 3.8.10 64-bit",
   "language": "python",
   "name": "python3"
  },
  "language_info": {
   "codemirror_mode": {
    "name": "ipython",
    "version": 3
   },
   "file_extension": ".py",
   "mimetype": "text/x-python",
   "name": "python",
   "nbconvert_exporter": "python",
   "pygments_lexer": "ipython3",
   "version": "3.8.10"
  },
  "orig_nbformat": 4,
  "vscode": {
   "interpreter": {
    "hash": "e7370f93d1d0cde622a1f8e1c04877d8463912d04d973331ad4851f04de6915a"
   }
  }
 },
 "nbformat": 4,
 "nbformat_minor": 2
}
